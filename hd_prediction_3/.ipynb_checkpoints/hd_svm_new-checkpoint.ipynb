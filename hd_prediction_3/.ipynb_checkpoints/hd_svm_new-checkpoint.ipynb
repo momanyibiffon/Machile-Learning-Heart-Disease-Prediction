{
 "cells": [
  {
   "cell_type": "code",
   "execution_count": 1,
   "metadata": {},
   "outputs": [],
   "source": [
    "import numpy as np\n",
    "import pandas as pd\n",
    "import matplotlib.pyplot as plt\n",
    "import seaborn as sns\n",
    "from sklearn import metrics\n",
    "from sklearn.metrics import classification_report, confusion_matrix, plot_confusion_matrix\n",
    "from sklearn.model_selection import train_test_split\n",
    "from sklearn.decomposition import PCA\n",
    "from sklearn.preprocessing import StandardScaler"
   ]
  },
  {
   "cell_type": "code",
   "execution_count": 2,
   "metadata": {},
   "outputs": [],
   "source": [
    "dset = pd.read_csv(\"cardio_train.csv\")"
   ]
  },
  {
   "cell_type": "code",
   "execution_count": 3,
   "metadata": {},
   "outputs": [
    {
     "data": {
      "text/html": [
       "<div>\n",
       "<style scoped>\n",
       "    .dataframe tbody tr th:only-of-type {\n",
       "        vertical-align: middle;\n",
       "    }\n",
       "\n",
       "    .dataframe tbody tr th {\n",
       "        vertical-align: top;\n",
       "    }\n",
       "\n",
       "    .dataframe thead th {\n",
       "        text-align: right;\n",
       "    }\n",
       "</style>\n",
       "<table border=\"1\" class=\"dataframe\">\n",
       "  <thead>\n",
       "    <tr style=\"text-align: right;\">\n",
       "      <th></th>\n",
       "      <th>id</th>\n",
       "      <th>age</th>\n",
       "      <th>gender</th>\n",
       "      <th>height</th>\n",
       "      <th>weight</th>\n",
       "      <th>ap_hi</th>\n",
       "      <th>ap_lo</th>\n",
       "      <th>cholesterol</th>\n",
       "      <th>gluc</th>\n",
       "      <th>smoke</th>\n",
       "      <th>alco</th>\n",
       "      <th>active</th>\n",
       "      <th>cardio</th>\n",
       "    </tr>\n",
       "  </thead>\n",
       "  <tbody>\n",
       "    <tr>\n",
       "      <th>0</th>\n",
       "      <td>0</td>\n",
       "      <td>18393</td>\n",
       "      <td>2</td>\n",
       "      <td>168</td>\n",
       "      <td>62.0</td>\n",
       "      <td>110</td>\n",
       "      <td>80</td>\n",
       "      <td>1</td>\n",
       "      <td>1</td>\n",
       "      <td>0</td>\n",
       "      <td>0</td>\n",
       "      <td>1</td>\n",
       "      <td>0</td>\n",
       "    </tr>\n",
       "    <tr>\n",
       "      <th>1</th>\n",
       "      <td>1</td>\n",
       "      <td>20228</td>\n",
       "      <td>1</td>\n",
       "      <td>156</td>\n",
       "      <td>85.0</td>\n",
       "      <td>140</td>\n",
       "      <td>90</td>\n",
       "      <td>3</td>\n",
       "      <td>1</td>\n",
       "      <td>0</td>\n",
       "      <td>0</td>\n",
       "      <td>1</td>\n",
       "      <td>1</td>\n",
       "    </tr>\n",
       "    <tr>\n",
       "      <th>2</th>\n",
       "      <td>2</td>\n",
       "      <td>18857</td>\n",
       "      <td>1</td>\n",
       "      <td>165</td>\n",
       "      <td>64.0</td>\n",
       "      <td>130</td>\n",
       "      <td>70</td>\n",
       "      <td>3</td>\n",
       "      <td>1</td>\n",
       "      <td>0</td>\n",
       "      <td>0</td>\n",
       "      <td>0</td>\n",
       "      <td>1</td>\n",
       "    </tr>\n",
       "    <tr>\n",
       "      <th>3</th>\n",
       "      <td>3</td>\n",
       "      <td>17623</td>\n",
       "      <td>2</td>\n",
       "      <td>169</td>\n",
       "      <td>82.0</td>\n",
       "      <td>150</td>\n",
       "      <td>100</td>\n",
       "      <td>1</td>\n",
       "      <td>1</td>\n",
       "      <td>0</td>\n",
       "      <td>0</td>\n",
       "      <td>1</td>\n",
       "      <td>1</td>\n",
       "    </tr>\n",
       "    <tr>\n",
       "      <th>4</th>\n",
       "      <td>4</td>\n",
       "      <td>17474</td>\n",
       "      <td>1</td>\n",
       "      <td>156</td>\n",
       "      <td>56.0</td>\n",
       "      <td>100</td>\n",
       "      <td>60</td>\n",
       "      <td>1</td>\n",
       "      <td>1</td>\n",
       "      <td>0</td>\n",
       "      <td>0</td>\n",
       "      <td>0</td>\n",
       "      <td>0</td>\n",
       "    </tr>\n",
       "  </tbody>\n",
       "</table>\n",
       "</div>"
      ],
      "text/plain": [
       "   id    age  gender  height  weight  ap_hi  ap_lo  cholesterol  gluc  smoke  \\\n",
       "0   0  18393       2     168    62.0    110     80            1     1      0   \n",
       "1   1  20228       1     156    85.0    140     90            3     1      0   \n",
       "2   2  18857       1     165    64.0    130     70            3     1      0   \n",
       "3   3  17623       2     169    82.0    150    100            1     1      0   \n",
       "4   4  17474       1     156    56.0    100     60            1     1      0   \n",
       "\n",
       "   alco  active  cardio  \n",
       "0     0       1       0  \n",
       "1     0       1       1  \n",
       "2     0       0       1  \n",
       "3     0       1       1  \n",
       "4     0       0       0  "
      ]
     },
     "execution_count": 3,
     "metadata": {},
     "output_type": "execute_result"
    }
   ],
   "source": [
    "dset.head()"
   ]
  },
  {
   "cell_type": "code",
   "execution_count": 4,
   "metadata": {},
   "outputs": [
    {
     "data": {
      "text/html": [
       "<div>\n",
       "<style scoped>\n",
       "    .dataframe tbody tr th:only-of-type {\n",
       "        vertical-align: middle;\n",
       "    }\n",
       "\n",
       "    .dataframe tbody tr th {\n",
       "        vertical-align: top;\n",
       "    }\n",
       "\n",
       "    .dataframe thead th {\n",
       "        text-align: right;\n",
       "    }\n",
       "</style>\n",
       "<table border=\"1\" class=\"dataframe\">\n",
       "  <thead>\n",
       "    <tr style=\"text-align: right;\">\n",
       "      <th></th>\n",
       "      <th>id</th>\n",
       "      <th>age</th>\n",
       "      <th>gender</th>\n",
       "      <th>height</th>\n",
       "      <th>weight</th>\n",
       "      <th>ap_hi</th>\n",
       "      <th>ap_lo</th>\n",
       "      <th>cholesterol</th>\n",
       "      <th>gluc</th>\n",
       "      <th>smoke</th>\n",
       "      <th>alco</th>\n",
       "      <th>active</th>\n",
       "      <th>cardio</th>\n",
       "    </tr>\n",
       "  </thead>\n",
       "  <tbody>\n",
       "    <tr>\n",
       "      <th>69995</th>\n",
       "      <td>99993</td>\n",
       "      <td>19240</td>\n",
       "      <td>2</td>\n",
       "      <td>168</td>\n",
       "      <td>76.0</td>\n",
       "      <td>120</td>\n",
       "      <td>80</td>\n",
       "      <td>1</td>\n",
       "      <td>1</td>\n",
       "      <td>1</td>\n",
       "      <td>0</td>\n",
       "      <td>1</td>\n",
       "      <td>0</td>\n",
       "    </tr>\n",
       "    <tr>\n",
       "      <th>69996</th>\n",
       "      <td>99995</td>\n",
       "      <td>22601</td>\n",
       "      <td>1</td>\n",
       "      <td>158</td>\n",
       "      <td>126.0</td>\n",
       "      <td>140</td>\n",
       "      <td>90</td>\n",
       "      <td>2</td>\n",
       "      <td>2</td>\n",
       "      <td>0</td>\n",
       "      <td>0</td>\n",
       "      <td>1</td>\n",
       "      <td>1</td>\n",
       "    </tr>\n",
       "    <tr>\n",
       "      <th>69997</th>\n",
       "      <td>99996</td>\n",
       "      <td>19066</td>\n",
       "      <td>2</td>\n",
       "      <td>183</td>\n",
       "      <td>105.0</td>\n",
       "      <td>180</td>\n",
       "      <td>90</td>\n",
       "      <td>3</td>\n",
       "      <td>1</td>\n",
       "      <td>0</td>\n",
       "      <td>1</td>\n",
       "      <td>0</td>\n",
       "      <td>1</td>\n",
       "    </tr>\n",
       "    <tr>\n",
       "      <th>69998</th>\n",
       "      <td>99998</td>\n",
       "      <td>22431</td>\n",
       "      <td>1</td>\n",
       "      <td>163</td>\n",
       "      <td>72.0</td>\n",
       "      <td>135</td>\n",
       "      <td>80</td>\n",
       "      <td>1</td>\n",
       "      <td>2</td>\n",
       "      <td>0</td>\n",
       "      <td>0</td>\n",
       "      <td>0</td>\n",
       "      <td>1</td>\n",
       "    </tr>\n",
       "    <tr>\n",
       "      <th>69999</th>\n",
       "      <td>99999</td>\n",
       "      <td>20540</td>\n",
       "      <td>1</td>\n",
       "      <td>170</td>\n",
       "      <td>72.0</td>\n",
       "      <td>120</td>\n",
       "      <td>80</td>\n",
       "      <td>2</td>\n",
       "      <td>1</td>\n",
       "      <td>0</td>\n",
       "      <td>0</td>\n",
       "      <td>1</td>\n",
       "      <td>0</td>\n",
       "    </tr>\n",
       "  </tbody>\n",
       "</table>\n",
       "</div>"
      ],
      "text/plain": [
       "          id    age  gender  height  weight  ap_hi  ap_lo  cholesterol  gluc  \\\n",
       "69995  99993  19240       2     168    76.0    120     80            1     1   \n",
       "69996  99995  22601       1     158   126.0    140     90            2     2   \n",
       "69997  99996  19066       2     183   105.0    180     90            3     1   \n",
       "69998  99998  22431       1     163    72.0    135     80            1     2   \n",
       "69999  99999  20540       1     170    72.0    120     80            2     1   \n",
       "\n",
       "       smoke  alco  active  cardio  \n",
       "69995      1     0       1       0  \n",
       "69996      0     0       1       1  \n",
       "69997      0     1       0       1  \n",
       "69998      0     0       0       1  \n",
       "69999      0     0       1       0  "
      ]
     },
     "execution_count": 4,
     "metadata": {},
     "output_type": "execute_result"
    }
   ],
   "source": [
    "dset.tail()"
   ]
  },
  {
   "cell_type": "code",
   "execution_count": 5,
   "metadata": {},
   "outputs": [
    {
     "data": {
      "text/plain": [
       "(70000, 13)"
      ]
     },
     "execution_count": 5,
     "metadata": {},
     "output_type": "execute_result"
    }
   ],
   "source": [
    "dset.shape"
   ]
  },
  {
   "cell_type": "code",
   "execution_count": 6,
   "metadata": {},
   "outputs": [],
   "source": [
    "data = dset.drop(['id'], axis=1)"
   ]
  },
  {
   "cell_type": "code",
   "execution_count": 7,
   "metadata": {},
   "outputs": [
    {
     "data": {
      "text/html": [
       "<div>\n",
       "<style scoped>\n",
       "    .dataframe tbody tr th:only-of-type {\n",
       "        vertical-align: middle;\n",
       "    }\n",
       "\n",
       "    .dataframe tbody tr th {\n",
       "        vertical-align: top;\n",
       "    }\n",
       "\n",
       "    .dataframe thead th {\n",
       "        text-align: right;\n",
       "    }\n",
       "</style>\n",
       "<table border=\"1\" class=\"dataframe\">\n",
       "  <thead>\n",
       "    <tr style=\"text-align: right;\">\n",
       "      <th></th>\n",
       "      <th>age</th>\n",
       "      <th>gender</th>\n",
       "      <th>height</th>\n",
       "      <th>weight</th>\n",
       "      <th>ap_hi</th>\n",
       "      <th>ap_lo</th>\n",
       "      <th>cholesterol</th>\n",
       "      <th>gluc</th>\n",
       "      <th>smoke</th>\n",
       "      <th>alco</th>\n",
       "      <th>active</th>\n",
       "      <th>cardio</th>\n",
       "    </tr>\n",
       "  </thead>\n",
       "  <tbody>\n",
       "    <tr>\n",
       "      <th>0</th>\n",
       "      <td>18393</td>\n",
       "      <td>2</td>\n",
       "      <td>168</td>\n",
       "      <td>62.0</td>\n",
       "      <td>110</td>\n",
       "      <td>80</td>\n",
       "      <td>1</td>\n",
       "      <td>1</td>\n",
       "      <td>0</td>\n",
       "      <td>0</td>\n",
       "      <td>1</td>\n",
       "      <td>0</td>\n",
       "    </tr>\n",
       "    <tr>\n",
       "      <th>1</th>\n",
       "      <td>20228</td>\n",
       "      <td>1</td>\n",
       "      <td>156</td>\n",
       "      <td>85.0</td>\n",
       "      <td>140</td>\n",
       "      <td>90</td>\n",
       "      <td>3</td>\n",
       "      <td>1</td>\n",
       "      <td>0</td>\n",
       "      <td>0</td>\n",
       "      <td>1</td>\n",
       "      <td>1</td>\n",
       "    </tr>\n",
       "    <tr>\n",
       "      <th>2</th>\n",
       "      <td>18857</td>\n",
       "      <td>1</td>\n",
       "      <td>165</td>\n",
       "      <td>64.0</td>\n",
       "      <td>130</td>\n",
       "      <td>70</td>\n",
       "      <td>3</td>\n",
       "      <td>1</td>\n",
       "      <td>0</td>\n",
       "      <td>0</td>\n",
       "      <td>0</td>\n",
       "      <td>1</td>\n",
       "    </tr>\n",
       "    <tr>\n",
       "      <th>3</th>\n",
       "      <td>17623</td>\n",
       "      <td>2</td>\n",
       "      <td>169</td>\n",
       "      <td>82.0</td>\n",
       "      <td>150</td>\n",
       "      <td>100</td>\n",
       "      <td>1</td>\n",
       "      <td>1</td>\n",
       "      <td>0</td>\n",
       "      <td>0</td>\n",
       "      <td>1</td>\n",
       "      <td>1</td>\n",
       "    </tr>\n",
       "    <tr>\n",
       "      <th>4</th>\n",
       "      <td>17474</td>\n",
       "      <td>1</td>\n",
       "      <td>156</td>\n",
       "      <td>56.0</td>\n",
       "      <td>100</td>\n",
       "      <td>60</td>\n",
       "      <td>1</td>\n",
       "      <td>1</td>\n",
       "      <td>0</td>\n",
       "      <td>0</td>\n",
       "      <td>0</td>\n",
       "      <td>0</td>\n",
       "    </tr>\n",
       "  </tbody>\n",
       "</table>\n",
       "</div>"
      ],
      "text/plain": [
       "     age  gender  height  weight  ap_hi  ap_lo  cholesterol  gluc  smoke  \\\n",
       "0  18393       2     168    62.0    110     80            1     1      0   \n",
       "1  20228       1     156    85.0    140     90            3     1      0   \n",
       "2  18857       1     165    64.0    130     70            3     1      0   \n",
       "3  17623       2     169    82.0    150    100            1     1      0   \n",
       "4  17474       1     156    56.0    100     60            1     1      0   \n",
       "\n",
       "   alco  active  cardio  \n",
       "0     0       1       0  \n",
       "1     0       1       1  \n",
       "2     0       0       1  \n",
       "3     0       1       1  \n",
       "4     0       0       0  "
      ]
     },
     "execution_count": 7,
     "metadata": {},
     "output_type": "execute_result"
    }
   ],
   "source": [
    "data.head()"
   ]
  },
  {
   "cell_type": "code",
   "execution_count": 8,
   "metadata": {},
   "outputs": [
    {
     "data": {
      "text/plain": [
       "(70000, 12)"
      ]
     },
     "execution_count": 8,
     "metadata": {},
     "output_type": "execute_result"
    }
   ],
   "source": [
    "data.shape"
   ]
  },
  {
   "cell_type": "code",
   "execution_count": 9,
   "metadata": {},
   "outputs": [
    {
     "data": {
      "text/plain": [
       "0    35021\n",
       "1    34979\n",
       "Name: cardio, dtype: int64"
      ]
     },
     "execution_count": 9,
     "metadata": {},
     "output_type": "execute_result"
    }
   ],
   "source": [
    "# target classes counts\n",
    "data['cardio'].value_counts()"
   ]
  },
  {
   "cell_type": "code",
   "execution_count": 10,
   "metadata": {},
   "outputs": [
    {
     "data": {
      "text/plain": [
       "<matplotlib.axes._subplots.AxesSubplot at 0x25e81272f40>"
      ]
     },
     "execution_count": 10,
     "metadata": {},
     "output_type": "execute_result"
    },
    {
     "data": {
      "image/png": "[encoded data removed]",
      "text/plain": [
       "<Figure size 432x288 with 1 Axes>"
      ]
     },
     "metadata": {
      "needs_background": "light"
     },
     "output_type": "display_data"
    }
   ],
   "source": [
    "# target classes visualization\n",
    "sns.countplot(data['cardio'])"
   ]
  },
  {
   "cell_type": "code",
   "execution_count": 11,
   "metadata": {},
   "outputs": [
    {
     "data": {
      "text/plain": [
       "False"
      ]
     },
     "execution_count": 11,
     "metadata": {},
     "output_type": "execute_result"
    }
   ],
   "source": [
    "# check for missing values\n",
    "pd.isnull(data).values.any()"
   ]
  },
  {
   "cell_type": "code",
   "execution_count": 12,
   "metadata": {},
   "outputs": [
    {
     "data": {
      "text/plain": [
       "0"
      ]
     },
     "execution_count": 12,
     "metadata": {},
     "output_type": "execute_result"
    }
   ],
   "source": [
    "pd.isnull(data).values.sum()"
   ]
  },
  {
   "cell_type": "code",
   "execution_count": 13,
   "metadata": {},
   "outputs": [
    {
     "data": {
      "text/plain": [
       "age            0\n",
       "gender         0\n",
       "height         0\n",
       "weight         0\n",
       "ap_hi          0\n",
       "ap_lo          0\n",
       "cholesterol    0\n",
       "gluc           0\n",
       "smoke          0\n",
       "alco           0\n",
       "active         0\n",
       "cardio         0\n",
       "dtype: int64"
      ]
     },
     "execution_count": 13,
     "metadata": {},
     "output_type": "execute_result"
    }
   ],
   "source": [
    "# check for missing values\n",
    "data.isnull().sum()"
   ]
  },
  {
   "cell_type": "code",
   "execution_count": 14,
   "metadata": {},
   "outputs": [
    {
     "data": {
      "text/plain": [
       "<matplotlib.axes._subplots.AxesSubplot at 0x25e81b59220>"
      ]
     },
     "execution_count": 14,
     "metadata": {},
     "output_type": "execute_result"
    },
    {
     "data": {
      "image/png": "[encoded data removed]",
      "text/plain": [
       "<Figure size 432x288 with 1 Axes>"
      ]
     },
     "metadata": {
      "needs_background": "light"
     },
     "output_type": "display_data"
    }
   ],
   "source": [
    "# visualizing samples by gender 1 = women, 2 = male\n",
    "sns.countplot(x=\"gender\", data=data, palette=\"BuGn\", hue=\"cardio\")"
   ]
  },
  {
   "cell_type": "code",
   "execution_count": 15,
   "metadata": {},
   "outputs": [
    {
     "data": {
      "text/html": [
       "<div>\n",
       "<style scoped>\n",
       "    .dataframe tbody tr th:only-of-type {\n",
       "        vertical-align: middle;\n",
       "    }\n",
       "\n",
       "    .dataframe tbody tr th {\n",
       "        vertical-align: top;\n",
       "    }\n",
       "\n",
       "    .dataframe thead th {\n",
       "        text-align: right;\n",
       "    }\n",
       "</style>\n",
       "<table border=\"1\" class=\"dataframe\">\n",
       "  <thead>\n",
       "    <tr style=\"text-align: right;\">\n",
       "      <th></th>\n",
       "      <th>age</th>\n",
       "      <th>gender</th>\n",
       "      <th>height</th>\n",
       "      <th>weight</th>\n",
       "      <th>ap_hi</th>\n",
       "      <th>ap_lo</th>\n",
       "      <th>cholesterol</th>\n",
       "      <th>gluc</th>\n",
       "      <th>smoke</th>\n",
       "      <th>alco</th>\n",
       "      <th>active</th>\n",
       "      <th>cardio</th>\n",
       "    </tr>\n",
       "  </thead>\n",
       "  <tbody>\n",
       "    <tr>\n",
       "      <th>age</th>\n",
       "      <td>1.000000</td>\n",
       "      <td>-0.022811</td>\n",
       "      <td>-0.081515</td>\n",
       "      <td>0.053684</td>\n",
       "      <td>0.020764</td>\n",
       "      <td>0.017647</td>\n",
       "      <td>0.154424</td>\n",
       "      <td>0.098703</td>\n",
       "      <td>-0.047633</td>\n",
       "      <td>-0.029723</td>\n",
       "      <td>-0.009927</td>\n",
       "      <td>0.238159</td>\n",
       "    </tr>\n",
       "    <tr>\n",
       "      <th>gender</th>\n",
       "      <td>-0.022811</td>\n",
       "      <td>1.000000</td>\n",
       "      <td>0.499033</td>\n",
       "      <td>0.155406</td>\n",
       "      <td>0.006005</td>\n",
       "      <td>0.015254</td>\n",
       "      <td>-0.035821</td>\n",
       "      <td>-0.020491</td>\n",
       "      <td>0.338135</td>\n",
       "      <td>0.170966</td>\n",
       "      <td>0.005866</td>\n",
       "      <td>0.008109</td>\n",
       "    </tr>\n",
       "    <tr>\n",
       "      <th>height</th>\n",
       "      <td>-0.081515</td>\n",
       "      <td>0.499033</td>\n",
       "      <td>1.000000</td>\n",
       "      <td>0.290968</td>\n",
       "      <td>0.005488</td>\n",
       "      <td>0.006150</td>\n",
       "      <td>-0.050226</td>\n",
       "      <td>-0.018595</td>\n",
       "      <td>0.187989</td>\n",
       "      <td>0.094419</td>\n",
       "      <td>-0.006570</td>\n",
       "      <td>-0.010821</td>\n",
       "    </tr>\n",
       "    <tr>\n",
       "      <th>weight</th>\n",
       "      <td>0.053684</td>\n",
       "      <td>0.155406</td>\n",
       "      <td>0.290968</td>\n",
       "      <td>1.000000</td>\n",
       "      <td>0.030702</td>\n",
       "      <td>0.043710</td>\n",
       "      <td>0.141768</td>\n",
       "      <td>0.106857</td>\n",
       "      <td>0.067780</td>\n",
       "      <td>0.067113</td>\n",
       "      <td>-0.016867</td>\n",
       "      <td>0.181660</td>\n",
       "    </tr>\n",
       "    <tr>\n",
       "      <th>ap_hi</th>\n",
       "      <td>0.020764</td>\n",
       "      <td>0.006005</td>\n",
       "      <td>0.005488</td>\n",
       "      <td>0.030702</td>\n",
       "      <td>1.000000</td>\n",
       "      <td>0.016086</td>\n",
       "      <td>0.023778</td>\n",
       "      <td>0.011841</td>\n",
       "      <td>-0.000922</td>\n",
       "      <td>0.001408</td>\n",
       "      <td>-0.000033</td>\n",
       "      <td>0.054475</td>\n",
       "    </tr>\n",
       "    <tr>\n",
       "      <th>ap_lo</th>\n",
       "      <td>0.017647</td>\n",
       "      <td>0.015254</td>\n",
       "      <td>0.006150</td>\n",
       "      <td>0.043710</td>\n",
       "      <td>0.016086</td>\n",
       "      <td>1.000000</td>\n",
       "      <td>0.024019</td>\n",
       "      <td>0.010806</td>\n",
       "      <td>0.005186</td>\n",
       "      <td>0.010601</td>\n",
       "      <td>0.004780</td>\n",
       "      <td>0.065719</td>\n",
       "    </tr>\n",
       "    <tr>\n",
       "      <th>cholesterol</th>\n",
       "      <td>0.154424</td>\n",
       "      <td>-0.035821</td>\n",
       "      <td>-0.050226</td>\n",
       "      <td>0.141768</td>\n",
       "      <td>0.023778</td>\n",
       "      <td>0.024019</td>\n",
       "      <td>1.000000</td>\n",
       "      <td>0.451578</td>\n",
       "      <td>0.010354</td>\n",
       "      <td>0.035760</td>\n",
       "      <td>0.009911</td>\n",
       "      <td>0.221147</td>\n",
       "    </tr>\n",
       "    <tr>\n",
       "      <th>gluc</th>\n",
       "      <td>0.098703</td>\n",
       "      <td>-0.020491</td>\n",
       "      <td>-0.018595</td>\n",
       "      <td>0.106857</td>\n",
       "      <td>0.011841</td>\n",
       "      <td>0.010806</td>\n",
       "      <td>0.451578</td>\n",
       "      <td>1.000000</td>\n",
       "      <td>-0.004756</td>\n",
       "      <td>0.011246</td>\n",
       "      <td>-0.006770</td>\n",
       "      <td>0.089307</td>\n",
       "    </tr>\n",
       "    <tr>\n",
       "      <th>smoke</th>\n",
       "      <td>-0.047633</td>\n",
       "      <td>0.338135</td>\n",
       "      <td>0.187989</td>\n",
       "      <td>0.067780</td>\n",
       "      <td>-0.000922</td>\n",
       "      <td>0.005186</td>\n",
       "      <td>0.010354</td>\n",
       "      <td>-0.004756</td>\n",
       "      <td>1.000000</td>\n",
       "      <td>0.340094</td>\n",
       "      <td>0.025858</td>\n",
       "      <td>-0.015486</td>\n",
       "    </tr>\n",
       "    <tr>\n",
       "      <th>alco</th>\n",
       "      <td>-0.029723</td>\n",
       "      <td>0.170966</td>\n",
       "      <td>0.094419</td>\n",
       "      <td>0.067113</td>\n",
       "      <td>0.001408</td>\n",
       "      <td>0.010601</td>\n",
       "      <td>0.035760</td>\n",
       "      <td>0.011246</td>\n",
       "      <td>0.340094</td>\n",
       "      <td>1.000000</td>\n",
       "      <td>0.025476</td>\n",
       "      <td>-0.007330</td>\n",
       "    </tr>\n",
       "    <tr>\n",
       "      <th>active</th>\n",
       "      <td>-0.009927</td>\n",
       "      <td>0.005866</td>\n",
       "      <td>-0.006570</td>\n",
       "      <td>-0.016867</td>\n",
       "      <td>-0.000033</td>\n",
       "      <td>0.004780</td>\n",
       "      <td>0.009911</td>\n",
       "      <td>-0.006770</td>\n",
       "      <td>0.025858</td>\n",
       "      <td>0.025476</td>\n",
       "      <td>1.000000</td>\n",
       "      <td>-0.035653</td>\n",
       "    </tr>\n",
       "    <tr>\n",
       "      <th>cardio</th>\n",
       "      <td>0.238159</td>\n",
       "      <td>0.008109</td>\n",
       "      <td>-0.010821</td>\n",
       "      <td>0.181660</td>\n",
       "      <td>0.054475</td>\n",
       "      <td>0.065719</td>\n",
       "      <td>0.221147</td>\n",
       "      <td>0.089307</td>\n",
       "      <td>-0.015486</td>\n",
       "      <td>-0.007330</td>\n",
       "      <td>-0.035653</td>\n",
       "      <td>1.000000</td>\n",
       "    </tr>\n",
       "  </tbody>\n",
       "</table>\n",
       "</div>"
      ],
      "text/plain": [
       "                  age    gender    height    weight     ap_hi     ap_lo  \\\n",
       "age          1.000000 -0.022811 -0.081515  0.053684  0.020764  0.017647   \n",
       "gender      -0.022811  1.000000  0.499033  0.155406  0.006005  0.015254   \n",
       "height      -0.081515  0.499033  1.000000  0.290968  0.005488  0.006150   \n",
       "weight       0.053684  0.155406  0.290968  1.000000  0.030702  0.043710   \n",
       "ap_hi        0.020764  0.006005  0.005488  0.030702  1.000000  0.016086   \n",
       "ap_lo        0.017647  0.015254  0.006150  0.043710  0.016086  1.000000   \n",
       "cholesterol  0.154424 -0.035821 -0.050226  0.141768  0.023778  0.024019   \n",
       "gluc         0.098703 -0.020491 -0.018595  0.106857  0.011841  0.010806   \n",
       "smoke       -0.047633  0.338135  0.187989  0.067780 -0.000922  0.005186   \n",
       "alco        -0.029723  0.170966  0.094419  0.067113  0.001408  0.010601   \n",
       "active      -0.009927  0.005866 -0.006570 -0.016867 -0.000033  0.004780   \n",
       "cardio       0.238159  0.008109 -0.010821  0.181660  0.054475  0.065719   \n",
       "\n",
       "             cholesterol      gluc     smoke      alco    active    cardio  \n",
       "age             0.154424  0.098703 -0.047633 -0.029723 -0.009927  0.238159  \n",
       "gender         -0.035821 -0.020491  0.338135  0.170966  0.005866  0.008109  \n",
       "height         -0.050226 -0.018595  0.187989  0.094419 -0.006570 -0.010821  \n",
       "weight          0.141768  0.106857  0.067780  0.067113 -0.016867  0.181660  \n",
       "ap_hi           0.023778  0.011841 -0.000922  0.001408 -0.000033  0.054475  \n",
       "ap_lo           0.024019  0.010806  0.005186  0.010601  0.004780  0.065719  \n",
       "cholesterol     1.000000  0.451578  0.010354  0.035760  0.009911  0.221147  \n",
       "gluc            0.451578  1.000000 -0.004756  0.011246 -0.006770  0.089307  \n",
       "smoke           0.010354 -0.004756  1.000000  0.340094  0.025858 -0.015486  \n",
       "alco            0.035760  0.011246  0.340094  1.000000  0.025476 -0.007330  \n",
       "active          0.009911 -0.006770  0.025858  0.025476  1.000000 -0.035653  \n",
       "cardio          0.221147  0.089307 -0.015486 -0.007330 -0.035653  1.000000  "
      ]
     },
     "execution_count": 15,
     "metadata": {},
     "output_type": "execute_result"
    }
   ],
   "source": [
    "# feature correlation\n",
    "data.corr()"
   ]
  },
  {
   "cell_type": "code",
   "execution_count": 16,
   "metadata": {},
   "outputs": [
    {
     "data": {
      "text/plain": [
       "<matplotlib.axes._subplots.AxesSubplot at 0x25e81b49e80>"
      ]
     },
     "execution_count": 16,
     "metadata": {},
     "output_type": "execute_result"
    },
    {
     "data": {
      "image/png": "[encoded data removed]",
      "text/plain": [
       "<Figure size 1152x720 with 2 Axes>"
      ]
     },
     "metadata": {
      "needs_background": "light"
     },
     "output_type": "display_data"
    }
   ],
   "source": [
    "# Correlation Matrix Heatmap\n",
    "# f, ax = plt.subplots(figsize=(16, 10))\n",
    "# corr = data.corr()\n",
    "# hm = sns.heatmap(round(corr,2), annot=True, ax=ax, cmap=\"coolwarm\",fmt='.2f',\n",
    "#                  linewidths=.05)\n",
    "# f.subplots_adjust(top=0.93)\n",
    "# t= f.suptitle('Feature correlation heatmap', fontsize=14)\n",
    "\n",
    "plt.figure(figsize=(16,10))\n",
    "sns.heatmap(data.corr(), annot=True, cmap=\"BuGn\",fmt='.2f', linewidths=.05)"
   ]
  },
  {
   "cell_type": "code",
   "execution_count": null,
   "metadata": {},
   "outputs": [],
   "source": []
  },
  {
   "cell_type": "code",
   "execution_count": 17,
   "metadata": {},
   "outputs": [],
   "source": [
    "# split the dataset into feature and target variables\n",
    "# X = data.iloc[:, :-1].values\n",
    "# X = data.drop(['cardio'], axis=1)\n",
    "# y = data.iloc[:, -1]"
   ]
  },
  {
   "cell_type": "code",
   "execution_count": 18,
   "metadata": {},
   "outputs": [],
   "source": [
    "# X_train, X_test, y_train, y_test = train_test_split(x, y, test_size=0.3, random_state=1)"
   ]
  },
  {
   "cell_type": "code",
   "execution_count": 19,
   "metadata": {},
   "outputs": [],
   "source": [
    "# standard scaling mean = 0 std = 1\n",
    "# scaler = StandardScaler()\n",
    "# X_train = scaler.fit_transform(X_train)\n",
    "# X_test = scaler.transform(X_test)\n"
   ]
  },
  {
   "cell_type": "code",
   "execution_count": 20,
   "metadata": {},
   "outputs": [],
   "source": [
    "# X_train"
   ]
  },
  {
   "cell_type": "code",
   "execution_count": 21,
   "metadata": {},
   "outputs": [],
   "source": [
    "# X_train.shape, X_test.shape"
   ]
  },
  {
   "cell_type": "code",
   "execution_count": 22,
   "metadata": {},
   "outputs": [
    {
     "data": {
      "text/plain": [
       "StandardScaler()"
      ]
     },
     "execution_count": 22,
     "metadata": {},
     "output_type": "execute_result"
    }
   ],
   "source": [
    "# First step of PCA for dimesionality reduction is standard normalization.\n",
    "# (checking if features follow a gaussian distribution where mean=0, std=1),\n",
    "scaler = StandardScaler()\n",
    "scaler.fit(data)"
   ]
  },
  {
   "cell_type": "code",
   "execution_count": 23,
   "metadata": {},
   "outputs": [],
   "source": [
    "# all values are converted to same scale\n",
    "scaled_data = scaler.transform(data)"
   ]
  },
  {
   "cell_type": "code",
   "execution_count": 24,
   "metadata": {},
   "outputs": [
    {
     "data": {
      "text/plain": [
       "array([[-0.43606151,  1.36405487,  0.44345206, ..., -0.23838436,\n",
       "         0.49416711, -0.99940018],\n",
       "       [ 0.30768633, -0.73310834, -1.01816804, ..., -0.23838436,\n",
       "         0.49416711,  1.00060018],\n",
       "       [-0.24799666, -0.73310834,  0.07804703, ..., -0.23838436,\n",
       "        -2.02360695,  1.00060018],\n",
       "       ...,\n",
       "       [-0.16328642,  1.36405487,  2.27047718, ...,  4.19490608,\n",
       "        -2.02360695,  1.00060018],\n",
       "       [ 1.20058905, -0.73310834, -0.16555632, ..., -0.23838436,\n",
       "        -2.02360695,  1.00060018],\n",
       "       [ 0.43414373, -0.73310834,  0.68705541, ..., -0.23838436,\n",
       "         0.49416711, -0.99940018]])"
      ]
     },
     "execution_count": 24,
     "metadata": {},
     "output_type": "execute_result"
    }
   ],
   "source": [
    "scaled_data"
   ]
  },
  {
   "cell_type": "code",
   "execution_count": 25,
   "metadata": {},
   "outputs": [
    {
     "data": {
      "text/plain": [
       "(70000, 12)"
      ]
     },
     "execution_count": 25,
     "metadata": {},
     "output_type": "execute_result"
    }
   ],
   "source": [
    "scaled_data.shape"
   ]
  },
  {
   "cell_type": "code",
   "execution_count": 26,
   "metadata": {},
   "outputs": [],
   "source": [
    "# PCA\n",
    "\n",
    "# n_components=2 means we convert number of features to 2\n",
    "# If 0 < n_components < 1 and svd_solver == 'full', select the number of components \n",
    "# such that the amount of variance that needs to be explained is greater than the percentage specified by n_components.\n",
    "# pca = PCA(n_components=6, svd_solver='full')\n",
    "pca = PCA(n_components=2)"
   ]
  },
  {
   "cell_type": "code",
   "execution_count": 27,
   "metadata": {},
   "outputs": [
    {
     "data": {
      "text/plain": [
       "PCA(n_components=2)"
      ]
     },
     "execution_count": 27,
     "metadata": {},
     "output_type": "execute_result"
    }
   ],
   "source": [
    "# fitting PCA instance\n",
    "pca.fit(scaled_data)"
   ]
  },
  {
   "cell_type": "code",
   "execution_count": 28,
   "metadata": {},
   "outputs": [],
   "source": [
    "# transforming scaled data so that we reduce number of features\n",
    "x_pca = pca.transform(scaled_data)"
   ]
  },
  {
   "cell_type": "code",
   "execution_count": 29,
   "metadata": {},
   "outputs": [
    {
     "data": {
      "text/plain": [
       "((70000, 12), (70000, 2))"
      ]
     },
     "execution_count": 29,
     "metadata": {},
     "output_type": "execute_result"
    }
   ],
   "source": [
    "scaled_data.shape, x_pca.shape"
   ]
  },
  {
   "cell_type": "code",
   "execution_count": 30,
   "metadata": {},
   "outputs": [
    {
     "data": {
      "text/plain": [
       "<matplotlib.colorbar.Colorbar at 0x25e81f3ba60>"
      ]
     },
     "execution_count": 30,
     "metadata": {},
     "output_type": "execute_result"
    },
    {
     "data": {
      "image/png": "[encoded data removed]",
      "text/plain": [
       "<Figure size 576x432 with 2 Axes>"
      ]
     },
     "metadata": {
      "needs_background": "light"
     },
     "output_type": "display_data"
    }
   ],
   "source": [
    "# plotting the first two dimensions\n",
    "plt.figure(figsize=(8,6))\n",
    "plt.scatter(x_pca[:,0], x_pca[:,1], c=data[\"cardio\"], cmap=\"plasma\")\n",
    "\n",
    "# plt.scatter(x_pca[:,0], x_pca[:,1],\n",
    "#             c=new_data[\"TenYearCHD\"], edgecolor='none', alpha=0.5,\n",
    "#             cmap=plt.cm.get_cmap('plasma', 10))\n",
    "\n",
    "plt.xlabel(\"First principal component\")\n",
    "plt.ylabel(\"Second principal component\")\n",
    "plt.colorbar()"
   ]
  },
  {
   "cell_type": "code",
   "execution_count": 31,
   "metadata": {},
   "outputs": [
    {
     "data": {
      "image/png": "[encoded data removed]",
      "text/plain": [
       "<Figure size 432x288 with 1 Axes>"
      ]
     },
     "metadata": {
      "needs_background": "light"
     },
     "output_type": "display_data"
    }
   ],
   "source": [
    "# new reduced dimensions vs initial data before dimension reduction\n",
    "X_new = pca.inverse_transform(x_pca)\n",
    "plt.scatter(x_pca[:, 0], x_pca[:, 1], alpha=0.2)\n",
    "plt.scatter(X_new[:, 0], X_new[:, 2], alpha=0.8)\n",
    "plt.axis('equal');"
   ]
  },
  {
   "cell_type": "code",
   "execution_count": 32,
   "metadata": {},
   "outputs": [],
   "source": [
    "# defining independent variables and target variable\n",
    "X = x_pca\n",
    "y = data[\"cardio\"]"
   ]
  },
  {
   "cell_type": "code",
   "execution_count": 33,
   "metadata": {},
   "outputs": [
    {
     "data": {
      "text/plain": [
       "array([[-0.3971726 , -1.48232937],\n",
       "       [ 0.75089255,  2.09265293],\n",
       "       [ 0.68177542,  1.48379008],\n",
       "       ...,\n",
       "       [-4.04399215,  1.75425328],\n",
       "       [ 0.75234424,  1.3742138 ],\n",
       "       [ 0.3673909 ,  0.04298553]])"
      ]
     },
     "execution_count": 33,
     "metadata": {},
     "output_type": "execute_result"
    }
   ],
   "source": [
    "X"
   ]
  },
  {
   "cell_type": "code",
   "execution_count": 34,
   "metadata": {},
   "outputs": [
    {
     "data": {
      "text/plain": [
       "0        0\n",
       "1        1\n",
       "2        1\n",
       "3        1\n",
       "4        0\n",
       "        ..\n",
       "69995    0\n",
       "69996    1\n",
       "69997    1\n",
       "69998    1\n",
       "69999    0\n",
       "Name: cardio, Length: 70000, dtype: int64"
      ]
     },
     "execution_count": 34,
     "metadata": {},
     "output_type": "execute_result"
    }
   ],
   "source": [
    "y"
   ]
  },
  {
   "cell_type": "code",
   "execution_count": 35,
   "metadata": {},
   "outputs": [],
   "source": [
    "X_train, X_test, y_train, y_test = train_test_split(X, y, test_size=0.3, random_state=100)"
   ]
  },
  {
   "cell_type": "code",
   "execution_count": 36,
   "metadata": {},
   "outputs": [],
   "source": [
    "# Support Vector Machine classifier\n",
    "from sklearn.svm import SVC"
   ]
  },
  {
   "cell_type": "code",
   "execution_count": 37,
   "metadata": {},
   "outputs": [
    {
     "data": {
      "text/plain": [
       "SVC(kernel='linear')"
      ]
     },
     "execution_count": 37,
     "metadata": {},
     "output_type": "execute_result"
    }
   ],
   "source": [
    "svm_clf = SVC(kernel=\"linear\")\n",
    "svm_clf.fit(X_train, y_train)"
   ]
  },
  {
   "cell_type": "code",
   "execution_count": 38,
   "metadata": {},
   "outputs": [
    {
     "name": "stdout",
     "output_type": "stream",
     "text": [
      "Training Accuracy: 83.01224489795919%\n"
     ]
    }
   ],
   "source": [
    "# model accuracy on training dataset\n",
    "training_accuracy = svm_clf.score(X_train, y_train)\n",
    "print(\"Training Accuracy: {0}%\".format(training_accuracy*100))"
   ]
  },
  {
   "cell_type": "code",
   "execution_count": 39,
   "metadata": {},
   "outputs": [],
   "source": [
    "# model accuracy on testing dataset\n",
    "# svm_clf.score(X_test, y_test)"
   ]
  },
  {
   "cell_type": "code",
   "execution_count": 40,
   "metadata": {},
   "outputs": [],
   "source": [
    "y_pred = svm_clf.predict(X_test)"
   ]
  },
  {
   "cell_type": "code",
   "execution_count": 41,
   "metadata": {},
   "outputs": [
    {
     "name": "stdout",
     "output_type": "stream",
     "text": [
      "Accuracy:83.07142857142857%\n"
     ]
    }
   ],
   "source": [
    "accuracy = metrics.accuracy_score(y_test, y_pred)\n",
    "print(\"Accuracy:{0}%\".format(accuracy*100))"
   ]
  },
  {
   "cell_type": "code",
   "execution_count": 42,
   "metadata": {},
   "outputs": [
    {
     "name": "stdout",
     "output_type": "stream",
     "text": [
      "              precision    recall  f1-score   support\n",
      "\n",
      "           0       0.85      0.80      0.82     10444\n",
      "           1       0.81      0.86      0.84     10556\n",
      "\n",
      "    accuracy                           0.83     21000\n",
      "   macro avg       0.83      0.83      0.83     21000\n",
      "weighted avg       0.83      0.83      0.83     21000\n",
      "\n"
     ]
    }
   ],
   "source": [
    "print(classification_report(y_test, y_pred))"
   ]
  },
  {
   "cell_type": "code",
   "execution_count": 43,
   "metadata": {},
   "outputs": [
    {
     "name": "stdout",
     "output_type": "stream",
     "text": [
      "[[8374 2070]\n",
      " [1485 9071]]\n"
     ]
    }
   ],
   "source": [
    "print(confusion_matrix(y_test, y_pred))"
   ]
  },
  {
   "cell_type": "code",
   "execution_count": 46,
   "metadata": {},
   "outputs": [
    {
     "data": {
      "text/plain": [
       "<sklearn.metrics._plot.confusion_matrix.ConfusionMatrixDisplay at 0x25e81b5f9a0>"
      ]
     },
     "execution_count": 46,
     "metadata": {},
     "output_type": "execute_result"
    },
    {
     "data": {
      "image/png": "[encoded data removed]",
      "text/plain": [
       "<Figure size 432x288 with 2 Axes>"
      ]
     },
     "metadata": {
      "needs_background": "light"
     },
     "output_type": "display_data"
    }
   ],
   "source": [
    "from sklearn.metrics import plot_confusion_matrix\n",
    "plot_confusion_matrix(svm_clf, X_test, y_test, cmap=\"BuGn\")  # doctest: +SKIP"
   ]
  },
  {
   "cell_type": "code",
   "execution_count": 47,
   "metadata": {},
   "outputs": [],
   "source": [
    "# plot_confusion_matrix(svm_clf, X_test, y_test, cmap=\"BuGn\")"
   ]
  },
  {
   "cell_type": "code",
   "execution_count": 48,
   "metadata": {
    "scrolled": true
   },
   "outputs": [
    {
     "name": "stdout",
     "output_type": "stream",
     "text": [
      "Dimensions: 1\n",
      "Accuracy: 52.714285714285715\n",
      "*********************************\n",
      "Dimensions: 2\n",
      "Accuracy: 83.06666666666666\n",
      "*********************************\n",
      "Dimensions: 3\n",
      "Accuracy: 83.53809523809524\n",
      "*********************************\n",
      "Dimensions: 4\n",
      "Accuracy: 90.75714285714285\n",
      "*********************************\n",
      "Dimensions: 5\n",
      "Accuracy: 91.01904761904763\n",
      "*********************************\n",
      "Dimensions: 6\n",
      "Accuracy: 92.68571428571428\n",
      "*********************************\n",
      "Dimensions: 7\n",
      "Accuracy: 94.70952380952382\n",
      "*********************************\n",
      "Dimensions: 8\n",
      "Accuracy: 94.78095238095237\n",
      "*********************************\n",
      "Dimensions: 9\n",
      "Accuracy: 99.99047619047619\n",
      "*********************************\n",
      "Dimensions: 10\n",
      "Accuracy: 100.0\n",
      "*********************************\n",
      "Dimensions: 11\n",
      "Accuracy: 100.0\n",
      "*********************************\n"
     ]
    }
   ],
   "source": [
    "# finding the best number of components\n",
    "for component in range(1,12):\n",
    "    pca = PCA(n_components=component)\n",
    "    pca.fit(scaled_data)\n",
    "    x_pca = pca.transform(scaled_data)\n",
    "    X = x_pca\n",
    "    y = data[\"cardio\"]\n",
    "    X_train, X_test, y_train, y_test = train_test_split(X, y, test_size=0.3, random_state=100)\n",
    "    svm_clf = SVC(kernel=\"linear\").fit(X_train, y_train)\n",
    "    y_pred = svm_clf.predict(X_test)\n",
    "    \n",
    "    accuracy = metrics.accuracy_score(y_test, y_pred)\n",
    "    print(\"Dimensions:\",component)\n",
    "    print(\"Accuracy:\",accuracy*100)\n",
    "    print(\"*********************************\")\n",
    "        \n",
    "#plotting \n",
    "# plt.figure(figsize=(8,8))\n",
    "# plt.plot(component, accuracy)\n",
    "# plt.show()"
   ]
  },
  {
   "cell_type": "code",
   "execution_count": 49,
   "metadata": {},
   "outputs": [],
   "source": [
    "# using K-Fold cross validation\n",
    "from sklearn.model_selection import cross_val_score, cross_val_predict\n",
    "score = cross_val_score(svm_clf, X, y, cv=10)"
   ]
  },
  {
   "cell_type": "code",
   "execution_count": 50,
   "metadata": {},
   "outputs": [
    {
     "data": {
      "text/plain": [
       "array([1., 1., 1., 1., 1., 1., 1., 1., 1., 1.])"
      ]
     },
     "execution_count": 50,
     "metadata": {},
     "output_type": "execute_result"
    }
   ],
   "source": [
    "score"
   ]
  },
  {
   "cell_type": "code",
   "execution_count": 51,
   "metadata": {},
   "outputs": [
    {
     "data": {
      "text/plain": [
       "1.0"
      ]
     },
     "execution_count": 51,
     "metadata": {},
     "output_type": "execute_result"
    }
   ],
   "source": [
    "score.mean()"
   ]
  },
  {
   "cell_type": "code",
   "execution_count": null,
   "metadata": {},
   "outputs": [],
   "source": []
  },
  {
   "cell_type": "code",
   "execution_count": 52,
   "metadata": {},
   "outputs": [],
   "source": [
    "# ANN classifier\n",
    "import tensorflow as tf\n",
    "import matplotlib.pyplot as plt\n",
    "import keras\n",
    "from keras.models import Sequential\n",
    "from keras.layers import Dense"
   ]
  },
  {
   "cell_type": "code",
   "execution_count": 53,
   "metadata": {},
   "outputs": [],
   "source": [
    "# ANN classifier\n",
    "# relu is the most effrctive activation function for training a model efficiently\n",
    "ann_clf = Sequential()\n",
    "ann_clf.add(Dense(activation = \"relu\", input_dim=11, units=8, kernel_initializer=\"uniform\")) # relu activation function maps values bewteen 0 and 1\n",
    "ann_clf.add(Dense(activation = \"relu\", units=13, kernel_initializer=\"uniform\"))\n",
    "ann_clf.add(Dense(activation = \"sigmoid\", units=1, kernel_initializer=\"uniform\")) # last layer activation functionm is sigmoid which maps the values to be either 0 and 1\n",
    "\n",
    "# compile the model adam gradient descent (optimized)\n",
    "# binary_crossentropyn is the cost function\n",
    "# adam is an efficient way to apply gradient descent in our model\n",
    "ann_clf.compile(optimizer = \"adam\", loss='binary_crossentropy', metrics=['accuracy'])"
   ]
  },
  {
   "cell_type": "code",
   "execution_count": 54,
   "metadata": {},
   "outputs": [
    {
     "name": "stdout",
     "output_type": "stream",
     "text": [
      "Epoch 1/100\n",
      "6125/6125 [==============================] - 17s 3ms/step - loss: 0.0209 - accuracy: 0.9983\n",
      "Epoch 2/100\n",
      "6125/6125 [==============================] - 16s 3ms/step - loss: 1.5301e-05 - accuracy: 1.0000\n",
      "Epoch 3/100\n",
      "6125/6125 [==============================] - 11s 2ms/step - loss: 5.9591e-07 - accuracy: 1.0000\n",
      "Epoch 4/100\n",
      "6125/6125 [==============================] - 10s 2ms/step - loss: 2.4397e-08 - accuracy: 1.0000\n",
      "Epoch 5/100\n",
      "6125/6125 [==============================] - 12s 2ms/step - loss: 8.4547e-04 - accuracy: 1.0000\n",
      "Epoch 6/100\n",
      "6125/6125 [==============================] - 9s 1ms/step - loss: 1.0839e-08 - accuracy: 1.0000\n",
      "Epoch 7/100\n",
      "6125/6125 [==============================] - 8s 1ms/step - loss: 6.5746e-09 - accuracy: 1.0000\n",
      "Epoch 8/100\n",
      "6125/6125 [==============================] - 11s 2ms/step - loss: 6.7664e-04 - accuracy: 1.0000\n",
      "Epoch 9/100\n",
      "6125/6125 [==============================] - 11s 2ms/step - loss: 0.0013 - accuracy: 0.9999\n",
      "Epoch 10/100\n",
      "6125/6125 [==============================] - 8s 1ms/step - loss: 3.3576e-08 - accuracy: 1.0000\n",
      "Epoch 11/100\n",
      "6125/6125 [==============================] - 12s 2ms/step - loss: 2.7506e-08 - accuracy: 1.0000\n",
      "Epoch 12/100\n",
      "6125/6125 [==============================] - 14s 2ms/step - loss: 1.0195e-08 - accuracy: 1.0000\n",
      "Epoch 13/100\n",
      "6125/6125 [==============================] - 17s 3ms/step - loss: 3.8632e-09 - accuracy: 1.0000\n",
      "Epoch 14/100\n",
      "6125/6125 [==============================] - 17s 3ms/step - loss: 2.8216e-09 - accuracy: 1.0000\n",
      "Epoch 15/100\n",
      "6125/6125 [==============================] - 18s 3ms/step - loss: 2.5925e-09 - accuracy: 1.0000\n",
      "Epoch 16/100\n",
      "6125/6125 [==============================] - 15s 2ms/step - loss: 2.5045e-09 - accuracy: 1.0000\n",
      "Epoch 17/100\n",
      "6125/6125 [==============================] - 8s 1ms/step - loss: 2.4650e-09 - accuracy: 1.0000\n",
      "Epoch 18/100\n",
      "6125/6125 [==============================] - 11s 2ms/step - loss: 2.4516e-09 - accuracy: 1.0000\n",
      "Epoch 19/100\n",
      "6125/6125 [==============================] - 10s 2ms/step - loss: 2.4259e-09 - accuracy: 1.0000\n",
      "Epoch 20/100\n",
      "6125/6125 [==============================] - 11s 2ms/step - loss: 2.4169e-09 - accuracy: 1.0000\n",
      "Epoch 21/100\n",
      "6125/6125 [==============================] - 13s 2ms/step - loss: 2.4143e-09 - accuracy: 1.0000\n",
      "Epoch 22/100\n",
      "6125/6125 [==============================] - 10s 2ms/step - loss: 2.4121e-09 - accuracy: 1.0000\n",
      "Epoch 23/100\n",
      "6125/6125 [==============================] - 12s 2ms/step - loss: 2.4102e-09 - accuracy: 1.0000\n",
      "Epoch 24/100\n",
      "6125/6125 [==============================] - 11s 2ms/step - loss: 2.4082e-09 - accuracy: 1.0000\n",
      "Epoch 25/100\n",
      "6125/6125 [==============================] - 11s 2ms/step - loss: 2.4064e-09 - accuracy: 1.0000\n",
      "Epoch 26/100\n",
      "6125/6125 [==============================] - 10s 2ms/step - loss: 2.4045e-09 - accuracy: 1.0000\n",
      "Epoch 27/100\n",
      "6125/6125 [==============================] - 9s 1ms/step - loss: 2.4026e-09 - accuracy: 1.0000\n",
      "Epoch 28/100\n",
      "6125/6125 [==============================] - 13s 2ms/step - loss: 2.4008e-09 - accuracy: 1.0000\n",
      "Epoch 29/100\n",
      "6125/6125 [==============================] - 16s 3ms/step - loss: 2.3989e-09 - accuracy: 1.0000\n",
      "Epoch 30/100\n",
      "6125/6125 [==============================] - 13s 2ms/step - loss: 2.3973e-09 - accuracy: 1.0000\n",
      "Epoch 31/100\n",
      "6125/6125 [==============================] - 9s 1ms/step - loss: 2.3958e-09 - accuracy: 1.0000\n",
      "Epoch 32/100\n",
      "6125/6125 [==============================] - 10s 2ms/step - loss: 2.3946e-09 - accuracy: 1.0000\n",
      "Epoch 33/100\n",
      "6125/6125 [==============================] - 14s 2ms/step - loss: 2.3937e-09 - accuracy: 1.0000\n",
      "Epoch 34/100\n",
      "6125/6125 [==============================] - 12s 2ms/step - loss: 2.3932e-09 - accuracy: 1.0000\n",
      "Epoch 35/100\n",
      "6125/6125 [==============================] - 11s 2ms/step - loss: 2.3844e-09 - accuracy: 1.0000\n",
      "Epoch 36/100\n",
      "6125/6125 [==============================] - 11s 2ms/step - loss: 2.3767e-09 - accuracy: 1.0000\n",
      "Epoch 37/100\n",
      "6125/6125 [==============================] - 14s 2ms/step - loss: 2.3768e-09 - accuracy: 1.0000\n",
      "Epoch 38/100\n",
      "6125/6125 [==============================] - 15s 2ms/step - loss: 2.3770e-09 - accuracy: 1.0000\n",
      "Epoch 39/100\n",
      "6125/6125 [==============================] - 14s 2ms/step - loss: 2.3773e-09 - accuracy: 1.0000\n",
      "Epoch 40/100\n",
      "6125/6125 [==============================] - 8s 1ms/step - loss: 2.3777e-09 - accuracy: 1.0000\n",
      "Epoch 41/100\n",
      "6125/6125 [==============================] - 9s 1ms/step - loss: 2.3782e-09 - accuracy: 1.0000\n",
      "Epoch 42/100\n",
      "6125/6125 [==============================] - 10s 2ms/step - loss: 2.3786e-09 - accuracy: 1.0000\n",
      "Epoch 43/100\n",
      "6125/6125 [==============================] - 11s 2ms/step - loss: 2.3792e-09 - accuracy: 1.0000\n",
      "Epoch 44/100\n",
      "6125/6125 [==============================] - 10s 2ms/step - loss: 2.3797e-09 - accuracy: 1.0000\n",
      "Epoch 45/100\n",
      "6125/6125 [==============================] - 10s 2ms/step - loss: 2.3802e-09 - accuracy: 1.0000\n",
      "Epoch 46/100\n",
      "6125/6125 [==============================] - 10s 2ms/step - loss: 2.3807e-09 - accuracy: 1.0000\n",
      "Epoch 47/100\n",
      "6125/6125 [==============================] - 10s 2ms/step - loss: 2.3812e-09 - accuracy: 1.0000\n",
      "Epoch 48/100\n",
      "6125/6125 [==============================] - 8s 1ms/step - loss: 2.3818e-09 - accuracy: 1.0000\n",
      "Epoch 49/100\n",
      "6125/6125 [==============================] - 11s 2ms/step - loss: 2.3822e-09 - accuracy: 1.0000\n",
      "Epoch 50/100\n",
      "6125/6125 [==============================] - 9s 1ms/step - loss: 2.3827e-09 - accuracy: 1.0000\n",
      "Epoch 51/100\n",
      "6125/6125 [==============================] - 10s 2ms/step - loss: 2.3832e-09 - accuracy: 1.0000\n",
      "Epoch 52/100\n",
      "6125/6125 [==============================] - 9s 1ms/step - loss: 2.3837e-09 - accuracy: 1.0000\n",
      "Epoch 53/100\n",
      "6125/6125 [==============================] - 10s 2ms/step - loss: 2.3841e-09 - accuracy: 1.0000\n",
      "Epoch 54/100\n",
      "6125/6125 [==============================] - 9s 2ms/step - loss: 2.3845e-09 - accuracy: 1.0000\n",
      "Epoch 55/100\n",
      "6125/6125 [==============================] - 9s 1ms/step - loss: 2.3849e-09 - accuracy: 1.0000\n",
      "Epoch 56/100\n",
      "6125/6125 [==============================] - 10s 2ms/step - loss: 2.3853e-09 - accuracy: 1.0000\n",
      "Epoch 57/100\n",
      "6125/6125 [==============================] - 9s 1ms/step - loss: 2.3857e-09 - accuracy: 1.0000\n",
      "Epoch 58/100\n",
      "6125/6125 [==============================] - 9s 1ms/step - loss: 2.3860e-09 - accuracy: 1.0000\n",
      "Epoch 59/100\n",
      "6125/6125 [==============================] - 9s 1ms/step - loss: 2.3863e-09 - accuracy: 1.0000\n",
      "Epoch 60/100\n",
      "6125/6125 [==============================] - 8s 1ms/step - loss: 2.3867e-09 - accuracy: 1.0000\n",
      "Epoch 61/100\n",
      "6125/6125 [==============================] - 8s 1ms/step - loss: 2.3870e-09 - accuracy: 1.0000\n",
      "Epoch 62/100\n",
      "6125/6125 [==============================] - 10s 2ms/step - loss: 2.3872e-09 - accuracy: 1.0000\n",
      "Epoch 63/100\n",
      "6125/6125 [==============================] - 9s 1ms/step - loss: 2.3875e-09 - accuracy: 1.0000\n",
      "Epoch 64/100\n",
      "6125/6125 [==============================] - 10s 2ms/step - loss: 2.3878e-09 - accuracy: 1.0000\n",
      "Epoch 65/100\n",
      "6125/6125 [==============================] - 9s 2ms/step - loss: 2.3881e-09 - accuracy: 1.0000\n",
      "Epoch 66/100\n",
      "6125/6125 [==============================] - 9s 1ms/step - loss: 2.3883e-09 - accuracy: 1.0000\n",
      "Epoch 67/100\n",
      "6125/6125 [==============================] - 9s 2ms/step - loss: 2.3885e-09 - accuracy: 1.0000\n",
      "Epoch 68/100\n",
      "6125/6125 [==============================] - 10s 2ms/step - loss: 2.3887e-09 - accuracy: 1.0000\n",
      "Epoch 69/100\n",
      "6125/6125 [==============================] - 10s 2ms/step - loss: 2.3890e-09 - accuracy: 1.0000\n",
      "Epoch 70/100\n",
      "6125/6125 [==============================] - 9s 1ms/step - loss: 2.3892e-09 - accuracy: 1.0000\n",
      "Epoch 71/100\n",
      "6125/6125 [==============================] - 10s 2ms/step - loss: 2.3894e-09 - accuracy: 1.0000\n",
      "Epoch 72/100\n",
      "6125/6125 [==============================] - 10s 2ms/step - loss: 2.3896e-09 - accuracy: 1.0000\n",
      "Epoch 73/100\n",
      "6125/6125 [==============================] - 10s 2ms/step - loss: 2.3897e-09 - accuracy: 1.0000\n",
      "Epoch 74/100\n",
      "6125/6125 [==============================] - 10s 2ms/step - loss: 2.3899e-09 - accuracy: 1.0000\n",
      "Epoch 75/100\n",
      "6125/6125 [==============================] - 5s 750us/step - loss: 2.3901e-09 - accuracy: 1.0000\n",
      "Epoch 76/100\n"
     ]
    },
    {
     "name": "stdout",
     "output_type": "stream",
     "text": [
      "6125/6125 [==============================] - 8s 1ms/step - loss: 2.3903e-09 - accuracy: 1.0000\n",
      "Epoch 77/100\n",
      "6125/6125 [==============================] - 8s 1ms/step - loss: 2.3904e-09 - accuracy: 1.0000\n",
      "Epoch 78/100\n",
      "6125/6125 [==============================] - 10s 2ms/step - loss: 2.3906e-09 - accuracy: 1.0000\n",
      "Epoch 79/100\n",
      "6125/6125 [==============================] - 10s 2ms/step - loss: 2.3907e-09 - accuracy: 1.0000\n",
      "Epoch 80/100\n",
      "6125/6125 [==============================] - 9s 2ms/step - loss: 2.3909e-09 - accuracy: 1.0000\n",
      "Epoch 81/100\n",
      "6125/6125 [==============================] - 9s 1ms/step - loss: 2.3910e-09 - accuracy: 1.0000\n",
      "Epoch 82/100\n",
      "6125/6125 [==============================] - 13s 2ms/step - loss: 2.3912e-09 - accuracy: 1.0000\n",
      "Epoch 83/100\n",
      "6125/6125 [==============================] - 13s 2ms/step - loss: 2.3913e-09 - accuracy: 1.0000\n",
      "Epoch 84/100\n",
      "6125/6125 [==============================] - 12s 2ms/step - loss: 2.3914e-09 - accuracy: 1.0000\n",
      "Epoch 85/100\n",
      "6125/6125 [==============================] - 10s 2ms/step - loss: 2.3915e-09 - accuracy: 1.0000\n",
      "Epoch 86/100\n",
      "6125/6125 [==============================] - 9s 2ms/step - loss: 2.3917e-09 - accuracy: 1.0000\n",
      "Epoch 87/100\n",
      "6125/6125 [==============================] - 9s 1ms/step - loss: 2.3918e-09 - accuracy: 1.0000\n",
      "Epoch 88/100\n",
      "6125/6125 [==============================] - 9s 2ms/step - loss: 2.3919e-09 - accuracy: 1.0000\n",
      "Epoch 89/100\n",
      "6125/6125 [==============================] - 11s 2ms/step - loss: 2.3920e-09 - accuracy: 1.0000\n",
      "Epoch 90/100\n",
      "6125/6125 [==============================] - 10s 2ms/step - loss: 2.3921e-09 - accuracy: 1.0000\n",
      "Epoch 91/100\n",
      "6125/6125 [==============================] - 9s 2ms/step - loss: 2.3922e-09 - accuracy: 1.0000\n",
      "Epoch 92/100\n",
      "6125/6125 [==============================] - 11s 2ms/step - loss: 2.3923e-09 - accuracy: 1.0000\n",
      "Epoch 93/100\n",
      "6125/6125 [==============================] - 12s 2ms/step - loss: 2.3924e-09 - accuracy: 1.0000\n",
      "Epoch 94/100\n",
      "6125/6125 [==============================] - 9s 1ms/step - loss: 2.3925e-09 - accuracy: 1.0000\n",
      "Epoch 95/100\n",
      "6125/6125 [==============================] - 8s 1ms/step - loss: 2.3926e-09 - accuracy: 1.0000\n",
      "Epoch 96/100\n",
      "6125/6125 [==============================] - 10s 2ms/step - loss: 2.3927e-09 - accuracy: 1.0000\n",
      "Epoch 97/100\n",
      "6125/6125 [==============================] - 9s 2ms/step - loss: 2.3928e-09 - accuracy: 1.0000\n",
      "Epoch 98/100\n",
      "6125/6125 [==============================] - 9s 2ms/step - loss: 2.3929e-09 - accuracy: 1.0000\n",
      "Epoch 99/100\n",
      "6125/6125 [==============================] - 11s 2ms/step - loss: 2.3930e-09 - accuracy: 1.0000\n",
      "Epoch 100/100\n",
      "6125/6125 [==============================] - 10s 2ms/step - loss: 2.3930e-09 - accuracy: 1.0000\n"
     ]
    },
    {
     "data": {
      "text/plain": [
       "<tensorflow.python.keras.callbacks.History at 0x25e9af00b50>"
      ]
     },
     "execution_count": 54,
     "metadata": {},
     "output_type": "execute_result"
    }
   ],
   "source": [
    "# fitting the model (training the network)\n",
    "# epochs is the forward and backward pases to check how much our neural network missed the actual output value then adjust based on the correct output\n",
    "# batch_size is the number of data points we are passing through network during each step \n",
    "ann_clf.fit(X_train, y_train, batch_size = 8, epochs = 100)"
   ]
  },
  {
   "cell_type": "code",
   "execution_count": 62,
   "metadata": {},
   "outputs": [],
   "source": [
    "# prediction and rescaling\n",
    "ann_y_pred = ann_clf.predict(X_test)\n",
    "ann_y_pred = (ann_y_pred > 0.5)"
   ]
  },
  {
   "cell_type": "code",
   "execution_count": 63,
   "metadata": {},
   "outputs": [
    {
     "data": {
      "text/plain": [
       "array([[10442,     2],\n",
       "       [    0, 10556]], dtype=int64)"
      ]
     },
     "execution_count": 63,
     "metadata": {},
     "output_type": "execute_result"
    }
   ],
   "source": [
    "# confusion matrix\n",
    "c_matrix = confusion_matrix(y_test, ann_y_pred)\n",
    "c_matrix"
   ]
  },
  {
   "cell_type": "code",
   "execution_count": 64,
   "metadata": {},
   "outputs": [
    {
     "name": "stdout",
     "output_type": "stream",
     "text": [
      "Accuracy 99.99047619047619\n",
      "2188/2188 [==============================] - 5s 2ms/step - loss: 1.5587e-04 - accuracy: 1.0000\n",
      "accuracy 99.99714493751526\n"
     ]
    }
   ],
   "source": [
    "# ANN accuracy\n",
    "accuracy = metrics.accuracy_score(y_test, ann_y_pred)\n",
    "print(\"Accuracy\", accuracy*100)\n",
    "scores = ann_clf.evaluate(X,y)\n",
    "print(ann_clf.metrics_names[1], scores[1]*100)"
   ]
  },
  {
   "cell_type": "code",
   "execution_count": 65,
   "metadata": {},
   "outputs": [
    {
     "name": "stdout",
     "output_type": "stream",
     "text": [
      "ANN classification report\n",
      "              precision    recall  f1-score   support\n",
      "\n",
      "           0       1.00      1.00      1.00     10444\n",
      "           1       1.00      1.00      1.00     10556\n",
      "\n",
      "    accuracy                           1.00     21000\n",
      "   macro avg       1.00      1.00      1.00     21000\n",
      "weighted avg       1.00      1.00      1.00     21000\n",
      "\n"
     ]
    }
   ],
   "source": [
    "print(\"ANN classification report\")\n",
    "print(classification_report(y_test, ann_y_pred))"
   ]
  },
  {
   "cell_type": "code",
   "execution_count": 66,
   "metadata": {},
   "outputs": [
    {
     "ename": "ValueError",
     "evalue": "plot_confusion_matrix only supports classifiers",
     "output_type": "error",
     "traceback": [
      "\u001b[1;31m---------------------------------------------------------------------------\u001b[0m",
      "\u001b[1;31mValueError\u001b[0m                                Traceback (most recent call last)",
      "\u001b[1;32m<ipython-input-66-cf73c4ef09dd>\u001b[0m in \u001b[0;36m<module>\u001b[1;34m\u001b[0m\n\u001b[1;32m----> 1\u001b[1;33m \u001b[0mplot_confusion_matrix\u001b[0m\u001b[1;33m(\u001b[0m\u001b[0mann_clf\u001b[0m\u001b[1;33m,\u001b[0m \u001b[0mX_test\u001b[0m\u001b[1;33m,\u001b[0m \u001b[0my_test\u001b[0m\u001b[1;33m,\u001b[0m \u001b[0mcmap\u001b[0m\u001b[1;33m=\u001b[0m\u001b[1;34m\"BuGn\"\u001b[0m\u001b[1;33m)\u001b[0m\u001b[1;33m\u001b[0m\u001b[1;33m\u001b[0m\u001b[0m\n\u001b[0m",
      "\u001b[1;32mc:\\users\\biffon momanyi\\appdata\\local\\programs\\python\\python38\\lib\\site-packages\\sklearn\\utils\\validation.py\u001b[0m in \u001b[0;36minner_f\u001b[1;34m(*args, **kwargs)\u001b[0m\n\u001b[0;32m     70\u001b[0m                           FutureWarning)\n\u001b[0;32m     71\u001b[0m         \u001b[0mkwargs\u001b[0m\u001b[1;33m.\u001b[0m\u001b[0mupdate\u001b[0m\u001b[1;33m(\u001b[0m\u001b[1;33m{\u001b[0m\u001b[0mk\u001b[0m\u001b[1;33m:\u001b[0m \u001b[0marg\u001b[0m \u001b[1;32mfor\u001b[0m \u001b[0mk\u001b[0m\u001b[1;33m,\u001b[0m \u001b[0marg\u001b[0m \u001b[1;32min\u001b[0m \u001b[0mzip\u001b[0m\u001b[1;33m(\u001b[0m\u001b[0msig\u001b[0m\u001b[1;33m.\u001b[0m\u001b[0mparameters\u001b[0m\u001b[1;33m,\u001b[0m \u001b[0margs\u001b[0m\u001b[1;33m)\u001b[0m\u001b[1;33m}\u001b[0m\u001b[1;33m)\u001b[0m\u001b[1;33m\u001b[0m\u001b[1;33m\u001b[0m\u001b[0m\n\u001b[1;32m---> 72\u001b[1;33m         \u001b[1;32mreturn\u001b[0m \u001b[0mf\u001b[0m\u001b[1;33m(\u001b[0m\u001b[1;33m**\u001b[0m\u001b[0mkwargs\u001b[0m\u001b[1;33m)\u001b[0m\u001b[1;33m\u001b[0m\u001b[1;33m\u001b[0m\u001b[0m\n\u001b[0m\u001b[0;32m     73\u001b[0m     \u001b[1;32mreturn\u001b[0m \u001b[0minner_f\u001b[0m\u001b[1;33m\u001b[0m\u001b[1;33m\u001b[0m\u001b[0m\n\u001b[0;32m     74\u001b[0m \u001b[1;33m\u001b[0m\u001b[0m\n",
      "\u001b[1;32mc:\\users\\biffon momanyi\\appdata\\local\\programs\\python\\python38\\lib\\site-packages\\sklearn\\metrics\\_plot\\confusion_matrix.py\u001b[0m in \u001b[0;36mplot_confusion_matrix\u001b[1;34m(estimator, X, y_true, labels, sample_weight, normalize, display_labels, include_values, xticks_rotation, values_format, cmap, ax)\u001b[0m\n\u001b[0;32m    215\u001b[0m \u001b[1;33m\u001b[0m\u001b[0m\n\u001b[0;32m    216\u001b[0m     \u001b[1;32mif\u001b[0m \u001b[1;32mnot\u001b[0m \u001b[0mis_classifier\u001b[0m\u001b[1;33m(\u001b[0m\u001b[0mestimator\u001b[0m\u001b[1;33m)\u001b[0m\u001b[1;33m:\u001b[0m\u001b[1;33m\u001b[0m\u001b[1;33m\u001b[0m\u001b[0m\n\u001b[1;32m--> 217\u001b[1;33m         \u001b[1;32mraise\u001b[0m \u001b[0mValueError\u001b[0m\u001b[1;33m(\u001b[0m\u001b[1;34m\"plot_confusion_matrix only supports classifiers\"\u001b[0m\u001b[1;33m)\u001b[0m\u001b[1;33m\u001b[0m\u001b[1;33m\u001b[0m\u001b[0m\n\u001b[0m\u001b[0;32m    218\u001b[0m \u001b[1;33m\u001b[0m\u001b[0m\n\u001b[0;32m    219\u001b[0m     \u001b[0my_pred\u001b[0m \u001b[1;33m=\u001b[0m \u001b[0mestimator\u001b[0m\u001b[1;33m.\u001b[0m\u001b[0mpredict\u001b[0m\u001b[1;33m(\u001b[0m\u001b[0mX\u001b[0m\u001b[1;33m)\u001b[0m\u001b[1;33m\u001b[0m\u001b[1;33m\u001b[0m\u001b[0m\n",
      "\u001b[1;31mValueError\u001b[0m: plot_confusion_matrix only supports classifiers"
     ]
    }
   ],
   "source": [
    "confusion_matrix(y_test, ann_y_pred)"
   ]
  },
  {
   "cell_type": "code",
   "execution_count": null,
   "metadata": {},
   "outputs": [],
   "source": []
  },
  {
   "cell_type": "code",
   "execution_count": null,
   "metadata": {},
   "outputs": [],
   "source": []
  }
 ],
 "metadata": {
  "kernelspec": {
   "display_name": "Python 3",
   "language": "python",
   "name": "python3"
  },
  "language_info": {
   "codemirror_mode": {
    "name": "ipython",
    "version": 3
   },
   "file_extension": ".py",
   "mimetype": "text/x-python",
   "name": "python",
   "nbconvert_exporter": "python",
   "pygments_lexer": "ipython3",
   "version": "3.8.1"
  }
 },
 "nbformat": 4,
 "nbformat_minor": 4
}
