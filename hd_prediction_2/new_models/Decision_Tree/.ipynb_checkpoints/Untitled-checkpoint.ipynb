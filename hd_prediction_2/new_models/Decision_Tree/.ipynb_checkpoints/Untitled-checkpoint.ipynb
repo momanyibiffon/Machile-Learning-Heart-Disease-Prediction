{
 "cells": [
  {
   "cell_type": "code",
   "execution_count": 1,
   "metadata": {},
   "outputs": [
    {
     "name": "stdout",
     "output_type": "stream",
     "text": [
      "Array sum im: 15\n"
     ]
    }
   ],
   "source": [
    "# sum of array\n",
    "def sum(arr):\n",
    "    sum = 0\n",
    "    for i in arr:\n",
    "        sum = sum + i\n",
    "    return sum\n",
    "\n",
    "arr = [1,2,3,4,5]\n",
    "print(\"Array sum im:\",sum(arr))"
   ]
  },
  {
   "cell_type": "code",
   "execution_count": null,
   "metadata": {},
   "outputs": [],
   "source": []
  },
  {
   "cell_type": "code",
   "execution_count": 2,
   "metadata": {},
   "outputs": [
    {
     "name": "stdout",
     "output_type": "stream",
     "text": [
      "Largest element is 400\n"
     ]
    }
   ],
   "source": [
    "# finding largest element in an array\n",
    "def largest(arr, n):\n",
    "    maxEl = arr[0]\n",
    "    for i in range(1, n):\n",
    "        if arr[i] > maxEl:\n",
    "            maxEl = arr[i]\n",
    "    return maxEl\n",
    "\n",
    "arr = [100, 400, 300, 50, 90]\n",
    "arrayLen = len(arr)\n",
    "largestEl = largest(arr, arrayLen)\n",
    "print(\"Largest element is\",largestEl)"
   ]
  },
  {
   "cell_type": "code",
   "execution_count": null,
   "metadata": {},
   "outputs": [],
   "source": []
  },
  {
   "cell_type": "code",
   "execution_count": 3,
   "metadata": {},
   "outputs": [
    {
     "name": "stdout",
     "output_type": "stream",
     "text": [
      "The sum of 4 and 6 is 10\n"
     ]
    }
   ],
   "source": [
    "# adding 2 numbers\n",
    "num1 = 4\n",
    "num2 = 6\n",
    "ans = num1 + num2\n",
    "\n",
    "print(\"The sum of {0} and {1} is {2}\".format(num1, num2, ans))"
   ]
  },
  {
   "cell_type": "code",
   "execution_count": 4,
   "metadata": {},
   "outputs": [
    {
     "name": "stdout",
     "output_type": "stream",
     "text": [
      "First number7\n",
      "Second number7\n",
      "Sum of 7 and 7 is 14\n"
     ]
    }
   ],
   "source": [
    "numOne = input(\"First number\")\n",
    "numTwo = input(\"Second number\")\n",
    "\n",
    "sumAns = int(numOne) + int(numTwo)\n",
    "\n",
    "print(\"Sum of {0} and {1} is {2}\".format(numOne, numTwo, sumAns))"
   ]
  },
  {
   "cell_type": "code",
   "execution_count": null,
   "metadata": {},
   "outputs": [],
   "source": []
  },
  {
   "cell_type": "code",
   "execution_count": 5,
   "metadata": {},
   "outputs": [
    {
     "name": "stdout",
     "output_type": "stream",
     "text": [
      "3 4 5 6 1 2 "
     ]
    }
   ],
   "source": [
    "# Splitting the array and adding first part to the end\n",
    "def splitArr(arr, n, k):\n",
    "    for i in range(0, k):\n",
    "        x = arr[0]\n",
    "        for j in range(0, n-1):\n",
    "            arr[j] = arr[j+1]\n",
    "        arr[n-1] = x\n",
    "    \n",
    "arr = [1,2,3,4,5,6]\n",
    "n = len(arr)\n",
    "pos = 2\n",
    "splitArr(arr, n, pos)\n",
    "for i in range(0, n):\n",
    "    print(arr[i], end = ' ')"
   ]
  },
  {
   "cell_type": "code",
   "execution_count": null,
   "metadata": {},
   "outputs": [],
   "source": []
  },
  {
   "cell_type": "code",
   "execution_count": 7,
   "metadata": {},
   "outputs": [
    {
     "name": "stdout",
     "output_type": "stream",
     "text": [
      "Enter a number7\n",
      "Prime\n"
     ]
    }
   ],
   "source": [
    "# prime number or not\n",
    "num = int(input(\"Enter a number\"))\n",
    "\n",
    "if num>1:\n",
    "    for x in range(2, num):\n",
    "        if (num%x) == 0:\n",
    "            print(\"Not prime\")\n",
    "            break\n",
    "        else:\n",
    "            print(\"Prime\")\n",
    "            break\n",
    "else:\n",
    "    print(\"Not prime\")"
   ]
  },
  {
   "cell_type": "code",
   "execution_count": 12,
   "metadata": {},
   "outputs": [
    {
     "name": "stdout",
     "output_type": "stream",
     "text": [
      "Enter a sequence321\n",
      "321 is not a palindrome\n"
     ]
    }
   ],
   "source": [
    "# checking for palindromes\n",
    "a = input(\"Enter a sequence\")\n",
    "b = a[::-1]\n",
    "\n",
    "if a == b:\n",
    "    print(\"{0} is a palindrome\".format(a))\n",
    "else:\n",
    "    print(\"{0} is not a palindrome\".format(a))"
   ]
  },
  {
   "cell_type": "code",
   "execution_count": null,
   "metadata": {},
   "outputs": [],
   "source": []
  }
 ],
 "metadata": {
  "kernelspec": {
   "display_name": "Python 3",
   "language": "python",
   "name": "python3"
  },
  "language_info": {
   "codemirror_mode": {
    "name": "ipython",
    "version": 3
   },
   "file_extension": ".py",
   "mimetype": "text/x-python",
   "name": "python",
   "nbconvert_exporter": "python",
   "pygments_lexer": "ipython3",
   "version": "3.8.1"
  }
 },
 "nbformat": 4,
 "nbformat_minor": 4
}
